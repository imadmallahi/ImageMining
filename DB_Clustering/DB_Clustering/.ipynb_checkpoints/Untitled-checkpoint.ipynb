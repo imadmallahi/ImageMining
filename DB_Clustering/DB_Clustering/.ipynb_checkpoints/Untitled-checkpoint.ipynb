{
 "cells": [
  {
   "cell_type": "code",
   "execution_count": 100,
   "metadata": {},
   "outputs": [],
   "source": [
    "import glob\n",
    "import csv\n",
    "from getFeatures import ColorDescriptor\n",
    "import cv2\n",
    "import os\n",
    "import numpy as np"
   ]
  },
  {
   "cell_type": "code",
   "execution_count": 106,
   "metadata": {},
   "outputs": [
    {
     "name": "stdout",
     "output_type": "stream",
     "text": [
      "['2Classes\\\\350000.jpg', '2Classes\\\\350001.jpg', '2Classes\\\\350002.jpg', '2Classes\\\\350003.jpg', '2Classes\\\\350004.jpg', '2Classes\\\\350005.jpg', '2Classes\\\\350006.jpg', '2Classes\\\\350007.jpg', '2Classes\\\\350008.jpg', '2Classes\\\\350009.jpg', '2Classes\\\\350010.jpg', '2Classes\\\\350011.jpg', '2Classes\\\\350012.jpg', '2Classes\\\\350013.jpg', '2Classes\\\\350014.jpg', '2Classes\\\\350015.jpg', '2Classes\\\\350016.jpg', '2Classes\\\\350017.jpg', '2Classes\\\\350018.jpg', '2Classes\\\\350019.jpg', '2Classes\\\\350020.jpg', '2Classes\\\\350021.jpg', '2Classes\\\\350022.jpg', '2Classes\\\\350023.jpg', '2Classes\\\\350024.jpg', '2Classes\\\\350025.jpg', '2Classes\\\\350026.jpg', '2Classes\\\\350027.jpg', '2Classes\\\\350028.jpg', '2Classes\\\\350029.jpg', '2Classes\\\\350030.jpg', '2Classes\\\\350031.jpg', '2Classes\\\\350032.jpg', '2Classes\\\\350033.jpg', '2Classes\\\\350034.jpg', '2Classes\\\\350035.jpg', '2Classes\\\\350036.jpg', '2Classes\\\\350037.jpg', '2Classes\\\\350038.jpg', '2Classes\\\\350039.jpg', '2Classes\\\\350040.jpg', '2Classes\\\\350041.jpg', '2Classes\\\\350042.jpg', '2Classes\\\\350043.jpg', '2Classes\\\\350044.jpg', '2Classes\\\\350045.jpg', '2Classes\\\\350046.jpg', '2Classes\\\\350047.jpg', '2Classes\\\\350048.jpg', '2Classes\\\\350049.jpg', '2Classes\\\\350050.jpg', '2Classes\\\\350051.jpg', '2Classes\\\\350052.jpg', '2Classes\\\\350053.jpg', '2Classes\\\\350054.jpg', '2Classes\\\\350055.jpg', '2Classes\\\\350056.jpg', '2Classes\\\\350057.jpg', '2Classes\\\\350058.jpg', '2Classes\\\\350059.jpg', '2Classes\\\\350060.jpg', '2Classes\\\\350061.jpg', '2Classes\\\\350062.jpg', '2Classes\\\\350063.jpg', '2Classes\\\\350064.jpg', '2Classes\\\\350065.jpg', '2Classes\\\\350066.jpg', '2Classes\\\\350067.jpg', '2Classes\\\\350068.jpg', '2Classes\\\\350069.jpg', '2Classes\\\\350070.jpg', '2Classes\\\\350071.jpg', '2Classes\\\\350072.jpg', '2Classes\\\\350073.jpg', '2Classes\\\\350074.jpg', '2Classes\\\\350075.jpg', '2Classes\\\\350076.jpg', '2Classes\\\\350077.jpg', '2Classes\\\\350078.jpg', '2Classes\\\\350079.jpg', '2Classes\\\\350080.jpg', '2Classes\\\\350081.jpg', '2Classes\\\\350082.jpg', '2Classes\\\\350083.jpg', '2Classes\\\\350084.jpg', '2Classes\\\\350085.jpg', '2Classes\\\\350086.jpg', '2Classes\\\\350087.jpg', '2Classes\\\\350088.jpg', '2Classes\\\\350089.jpg', '2Classes\\\\350090.jpg', '2Classes\\\\350091.jpg', '2Classes\\\\350092.jpg', '2Classes\\\\350093.jpg', '2Classes\\\\350094.jpg', '2Classes\\\\350095.jpg', '2Classes\\\\350096.jpg', '2Classes\\\\350097.jpg', '2Classes\\\\350098.jpg', '2Classes\\\\350099.jpg', '2Classes\\\\425000.jpg', '2Classes\\\\425001.jpg', '2Classes\\\\425002.jpg', '2Classes\\\\425003.jpg', '2Classes\\\\425004.jpg', '2Classes\\\\425005.jpg', '2Classes\\\\425006.jpg', '2Classes\\\\425007.jpg', '2Classes\\\\425008.jpg', '2Classes\\\\425009.jpg', '2Classes\\\\425010.jpg', '2Classes\\\\425011.jpg', '2Classes\\\\425012.jpg', '2Classes\\\\425013.jpg', '2Classes\\\\425014.jpg', '2Classes\\\\425015.jpg', '2Classes\\\\425016.jpg', '2Classes\\\\425017.jpg', '2Classes\\\\425018.jpg', '2Classes\\\\425019.jpg', '2Classes\\\\425020.jpg', '2Classes\\\\425021.jpg', '2Classes\\\\425022.jpg', '2Classes\\\\425023.jpg', '2Classes\\\\425024.jpg', '2Classes\\\\425025.jpg', '2Classes\\\\425026.jpg', '2Classes\\\\425027.jpg', '2Classes\\\\425028.jpg', '2Classes\\\\425029.jpg', '2Classes\\\\425030.jpg', '2Classes\\\\425031.jpg', '2Classes\\\\425032.jpg', '2Classes\\\\425033.jpg', '2Classes\\\\425034.jpg', '2Classes\\\\425035.jpg', '2Classes\\\\425036.jpg', '2Classes\\\\425037.jpg', '2Classes\\\\425038.jpg', '2Classes\\\\425039.jpg', '2Classes\\\\425040.jpg', '2Classes\\\\425041.jpg', '2Classes\\\\425042.jpg', '2Classes\\\\425043.jpg', '2Classes\\\\425044.jpg', '2Classes\\\\425045.jpg', '2Classes\\\\425046.jpg', '2Classes\\\\425047.jpg', '2Classes\\\\425048.jpg', '2Classes\\\\425049.jpg', '2Classes\\\\425050.jpg', '2Classes\\\\425051.jpg', '2Classes\\\\425052.jpg', '2Classes\\\\425053.jpg', '2Classes\\\\425054.jpg', '2Classes\\\\425055.jpg', '2Classes\\\\425056.jpg', '2Classes\\\\425057.jpg', '2Classes\\\\425058.jpg', '2Classes\\\\425059.jpg', '2Classes\\\\425060.jpg', '2Classes\\\\425061.jpg', '2Classes\\\\425062.jpg', '2Classes\\\\425063.jpg', '2Classes\\\\425064.jpg', '2Classes\\\\425065.jpg', '2Classes\\\\425066.jpg', '2Classes\\\\425067.jpg', '2Classes\\\\425068.jpg', '2Classes\\\\425069.jpg', '2Classes\\\\425070.jpg', '2Classes\\\\425071.jpg', '2Classes\\\\425072.jpg', '2Classes\\\\425073.jpg', '2Classes\\\\425074.jpg', '2Classes\\\\425075.jpg', '2Classes\\\\425076.jpg', '2Classes\\\\425077.jpg', '2Classes\\\\425078.jpg', '2Classes\\\\425079.jpg', '2Classes\\\\425080.jpg', '2Classes\\\\425081.jpg', '2Classes\\\\425082.jpg', '2Classes\\\\425083.jpg', '2Classes\\\\425084.jpg', '2Classes\\\\425085.jpg', '2Classes\\\\425086.jpg', '2Classes\\\\425087.jpg', '2Classes\\\\425088.jpg', '2Classes\\\\425089.jpg', '2Classes\\\\425090.jpg', '2Classes\\\\425091.jpg', '2Classes\\\\425092.jpg', '2Classes\\\\425093.jpg', '2Classes\\\\425094.jpg', '2Classes\\\\425095.jpg', '2Classes\\\\425096.jpg', '2Classes\\\\425097.jpg', '2Classes\\\\425098.jpg', '2Classes\\\\425099.jpg']\n"
     ]
    }
   ],
   "source": [
    "\n",
    "files = []\n",
    "liste=[]\n",
    "X=[]\n",
    "name=[]\n",
    "images=glob.glob('2Classes/*.jpg')\n",
    "cd = ColorDescriptor((12, 12, 12)) \n",
    "\n",
    "for image in images:\n",
    "    imageR=cv2.imread(image)\n",
    "    features = cd.describe(imageR)    \n",
    "    liste.append({'class': image , 'v':features})\n",
    "\n",
    "for i in liste:\n",
    "    X.append(i['v'])\n",
    "for i in liste:\n",
    "    name.append(i['class'])\n",
    "import numpy as np\n",
    "X = np.array(X)\n",
    "y = X.astype(np.float)   \n",
    "\n",
    "print(name)\n",
    "        \n",
    "    \n"
   ]
  },
  {
   "cell_type": "code",
   "execution_count": 107,
   "metadata": {},
   "outputs": [
    {
     "name": "stdout",
     "output_type": "stream",
     "text": [
      "[1 1 1 1 1 1 1 1 1 1 1 1 1 1 1 1 1 1 1 1 1 1 1 1 0 1 1 1 1 1 1 1 1 1 1 1 1\n",
      " 1 1 1 1 1 1 1 1 1 1 1 1 1 1 1 1 1 1 1 1 1 1 1 1 1 1 1 1 1 1 1 1 1 1 1 1 1\n",
      " 1 1 1 1 1 1 1 1 1 1 1 1 1 1 1 1 1 1 1 1 1 1 1 1 1 1 0 0 0 0 0 0 0 0 0 0 0\n",
      " 0 0 0 0 0 0 0 0 0 0 0 0 0 0 0 0 1 1 0 1 0 0 0 1 1 1 1 1 1 0 0 0 0 0 0 0 0\n",
      " 0 0 0 0 0 0 0 0 0 0 0 0 0 0 0 0 0 0 0 0 0 0 0 0 0 0 0 0 0 0 0 1 0 0 0 0 0\n",
      " 0 0 0 0 0 0 0 0 0 0 0 0 0 0 0]\n",
      "[[6.8743503e-01 4.0492127e-03 3.1197388e-03 ... 5.6283828e-03\n",
      "  1.5751055e-02 7.5535458e-03]\n",
      " [1.2873560e-02 2.4266474e-02 5.2956037e-02 ... 7.5045391e-04\n",
      "  7.2152028e-04 4.9153785e-04]]\n"
     ]
    }
   ],
   "source": [
    "from sklearn.cluster import KMeans\n",
    "import numpy as np\n",
    "\n",
    "kmeans = KMeans(n_clusters=2, random_state=0).fit(X)\n",
    "print(kmeans.labels_)\n",
    "print(kmeans.cluster_centers_)"
   ]
  },
  {
   "cell_type": "code",
   "execution_count": 103,
   "metadata": {},
   "outputs": [],
   "source": [
    "\n",
    "import csv\n",
    "T=[]\n",
    "for t,img in zip(kmeans.labels_,name):\n",
    "    if t==1:\n",
    "        imad=img.split('\\\\')\n",
    "        cal=\"1\"\n",
    "        T.append({'image_id':imad[1],'classe':cal})        \n",
    "    else:\n",
    "        imad=img.split('\\\\')\n",
    "        cal=\"2\"\n",
    "        T.append({'image_id':imad[1],'classe':cal})\n",
    "        \n",
    "        \n",
    "en_tetes = [ 'image_id','classe']\n",
    "with open('Clustring.csv','w+', newline='') as ff:\n",
    "    f_csv = csv.DictWriter(ff, en_tetes)\n",
    "    f_csv.writeheader()\n",
    "    f_csv.writerows(T)\n",
    "    \n",
    "    "
   ]
  },
  {
   "cell_type": "code",
   "execution_count": null,
   "metadata": {},
   "outputs": [],
   "source": []
  },
  {
   "cell_type": "code",
   "execution_count": null,
   "metadata": {},
   "outputs": [],
   "source": []
  }
 ],
 "metadata": {
  "kernelspec": {
   "display_name": "Python 3",
   "language": "python",
   "name": "python3"
  },
  "language_info": {
   "codemirror_mode": {
    "name": "ipython",
    "version": 3
   },
   "file_extension": ".py",
   "mimetype": "text/x-python",
   "name": "python",
   "nbconvert_exporter": "python",
   "pygments_lexer": "ipython3",
   "version": "3.7.1"
  }
 },
 "nbformat": 4,
 "nbformat_minor": 2
}
